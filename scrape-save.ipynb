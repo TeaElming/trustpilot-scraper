{
 "cells": [
  {
   "cell_type": "code",
   "execution_count": 1,
   "id": "b48c5bca",
   "metadata": {},
   "outputs": [],
   "source": [
    "import re\n",
    "import os\n",
    "import json\n",
    "import requests\n",
    "import pandas as pd\n",
    "from bs4 import BeautifulSoup"
   ]
  },
  {
   "cell_type": "code",
   "execution_count": 2,
   "id": "d2684989",
   "metadata": {},
   "outputs": [],
   "source": [
    "def fetch(url):\n",
    "    fail = True\n",
    "    while fail == True:\n",
    "        time.sleep(1)\n",
    "        result = requests.get(url)\n",
    "        status_code = result.status_code\n",
    "        if status_code == 200:\n",
    "            content = result.content\n",
    "            soup = BeautifulSoup(result.content, \"html.parser\")\n",
    "            fail = False\n",
    "            return soup\n",
    "        else:\n",
    "            print(\"Going to sleep\")\n",
    "            time.sleep(2)\n",
    "            fail = True"
   ]
  },
  {
   "cell_type": "code",
   "execution_count": 3,
   "id": "94170e12",
   "metadata": {},
   "outputs": [],
   "source": [
    "def get_categories():\n",
    "    top_category_url = \"https://se.trustpilot.com/categories\"\n",
    "    category_soup = fetch(top_category_url)\n",
    "    tags = category_soup.find(\"script\", {\"id\":\"__NEXT_DATA__\"})\n",
    "    data = json.loads(tags.text)\n",
    "    tree = data[\"props\"]\n",
    "    all_categories = []\n",
    "    cats = tree[\"pageProps\"][\"categories\"]\n",
    "    for category in cats:\n",
    "        all_categories.append(category[\"categoryId\"])\n",
    "    category_urls = []\n",
    "    for cat in all_categories:\n",
    "        category_url = top_category_url + \"/\" + cat\n",
    "        category_urls.append(category_url) # All category URLs collected from site\n",
    "    return category_urls"
   ]
  },
  {
   "cell_type": "code",
   "execution_count": 4,
   "id": "f9044fc5",
   "metadata": {},
   "outputs": [
    {
     "ename": "AttributeError",
     "evalue": "'NoneType' object has no attribute 'text'",
     "output_type": "error",
     "traceback": [
      "\u001b[0;31m---------------------------------------------------------------------------\u001b[0m",
      "\u001b[0;31mAttributeError\u001b[0m                            Traceback (most recent call last)",
      "\u001b[0;32m/tmp/ipykernel_30772/2930174111.py\u001b[0m in \u001b[0;36m<module>\u001b[0;34m\u001b[0m\n\u001b[0;32m----> 1\u001b[0;31m \u001b[0mcategories\u001b[0m \u001b[0;34m=\u001b[0m \u001b[0mget_categories\u001b[0m\u001b[0;34m(\u001b[0m\u001b[0;34m)\u001b[0m\u001b[0;34m\u001b[0m\u001b[0;34m\u001b[0m\u001b[0m\n\u001b[0m",
      "\u001b[0;32m/tmp/ipykernel_30772/3652040939.py\u001b[0m in \u001b[0;36mget_categories\u001b[0;34m()\u001b[0m\n\u001b[1;32m      3\u001b[0m     \u001b[0mcategory_soup\u001b[0m \u001b[0;34m=\u001b[0m \u001b[0mfetch\u001b[0m\u001b[0;34m(\u001b[0m\u001b[0mtop_category_url\u001b[0m\u001b[0;34m)\u001b[0m\u001b[0;34m\u001b[0m\u001b[0;34m\u001b[0m\u001b[0m\n\u001b[1;32m      4\u001b[0m     \u001b[0mtags\u001b[0m \u001b[0;34m=\u001b[0m \u001b[0mcategory_soup\u001b[0m\u001b[0;34m.\u001b[0m\u001b[0mfind\u001b[0m\u001b[0;34m(\u001b[0m\u001b[0;34m\"script\"\u001b[0m\u001b[0;34m,\u001b[0m \u001b[0;34m{\u001b[0m\u001b[0;34m\"id\"\u001b[0m\u001b[0;34m:\u001b[0m\u001b[0;34m\"__NEXT_DATA__\"\u001b[0m\u001b[0;34m}\u001b[0m\u001b[0;34m)\u001b[0m\u001b[0;34m\u001b[0m\u001b[0;34m\u001b[0m\u001b[0m\n\u001b[0;32m----> 5\u001b[0;31m     \u001b[0mdata\u001b[0m \u001b[0;34m=\u001b[0m \u001b[0mjson\u001b[0m\u001b[0;34m.\u001b[0m\u001b[0mloads\u001b[0m\u001b[0;34m(\u001b[0m\u001b[0mtags\u001b[0m\u001b[0;34m.\u001b[0m\u001b[0mtext\u001b[0m\u001b[0;34m)\u001b[0m\u001b[0;34m\u001b[0m\u001b[0;34m\u001b[0m\u001b[0m\n\u001b[0m\u001b[1;32m      6\u001b[0m     \u001b[0mtree\u001b[0m \u001b[0;34m=\u001b[0m \u001b[0mdata\u001b[0m\u001b[0;34m[\u001b[0m\u001b[0;34m\"props\"\u001b[0m\u001b[0;34m]\u001b[0m\u001b[0;34m\u001b[0m\u001b[0;34m\u001b[0m\u001b[0m\n\u001b[1;32m      7\u001b[0m     \u001b[0mall_categories\u001b[0m \u001b[0;34m=\u001b[0m \u001b[0;34m[\u001b[0m\u001b[0;34m]\u001b[0m\u001b[0;34m\u001b[0m\u001b[0;34m\u001b[0m\u001b[0m\n",
      "\u001b[0;31mAttributeError\u001b[0m: 'NoneType' object has no attribute 'text'"
     ]
    }
   ],
   "source": [
    "categories = get_categories()"
   ]
  },
  {
   "cell_type": "code",
   "execution_count": null,
   "id": "b176ff03",
   "metadata": {},
   "outputs": [],
   "source": [
    "print(categories)"
   ]
  },
  {
   "cell_type": "code",
   "execution_count": null,
   "id": "58400971",
   "metadata": {},
   "outputs": [],
   "source": [
    "data = []\n",
    "\n",
    "if not os.path.exists(\"data\"):\n",
    "    os.makedir(\"data\")\n",
    "\n",
    "with open(\"ratings.csv\",\"wb\") as csv_file:\n",
    "    for category in categories[0:1]:\n",
    "        category_dir = category.split(\"/\")\n",
    "        category_dir = category_dir[len(category_dir)-1]\n",
    "        if not os.path.exists(\"data/\" + category_dir):\n",
    "            os.mkdir(\"data/\" + category_dir)\n",
    "\n",
    "        category_specific_companies = []\n",
    "        category_soup = fetch(category)\n",
    "        category_tags = category_soup.find(\"script\", {\"id\":\"__NEXT_DATA__\"})\n",
    "        category_data = json.loads(category_tags.text)\n",
    "        # Category is for example https://se.trustpilot.com/categories/animals_pets\n",
    "        n_pages = category_data[\"props\"][\"pageProps\"][\"seoData\"][\"maxPages\"]\n",
    "        for i in range(1, n_pages):\n",
    "            category_page = category + \"?page=\" + str(i)\n",
    "            company_soup = fetch(category_page)\n",
    "            company_tags = company_soup.find(\"script\", {\"id\":\"__NEXT_DATA__\"})\n",
    "            company_data = json.loads(company_tags.text)\n",
    "            try: \n",
    "\n",
    "                # Collect company names\n",
    "                company_tree = company_data[\"props\"][\"pageProps\"][\"businessUnits\"]\n",
    "                for k, v in company_tree.items():\n",
    "                    if type(v) == list:\n",
    "                        for j in v:\n",
    "                            company_id = j[\"identifyingName\"]\n",
    "                            if company_id not in category_specific_companies:\n",
    "                                category_specific_companies.append(company_id)\n",
    "            except AttributeError:\n",
    "                print(\"COMPANY ERROR 1! There was an error with this company:\" + company_id)\n",
    "            i += 1\n",
    "        for c in category_specific_companies:\n",
    "            try:\n",
    "                # Collect company data\n",
    "                if not os.path.exists(\"data/\" + category_dir + \"/\" + c):\n",
    "                    os.mkdir(\"data/\" + category_dir + \"/\" + c)\n",
    "                count_soup = fetch(\"https://se.trustpilot.com/review/\" + c)\n",
    "                count_tags = count_soup.find(\"script\", {\"id\":\"__NEXT_DATA__\"})\n",
    "                count_data = json.loads(count_tags.text)\n",
    "                count_tree = count_data[\"props\"]\n",
    "                count_pages = count_tree[\"pageProps\"][\"filters\"][\"pagination\"][\"totalPages\"]\n",
    "            except AttributeError:\n",
    "                print(\"COMPANY ERROR 2! There was an error with this company:\" + c)\n",
    "            for page in range(1, count_pages):\n",
    "                try:\n",
    "                    review_soup = fetch(\"https://se.trustpilot.com/review/\" + c + \"?page=\" + str(page) +\"&stars=3\") # Specify rating if important here\n",
    "                    review_tags = review_soup.find(\"script\", {\"id\":\"__NEXT_DATA__\"})\n",
    "                    review_data = json.loads(review_tags.text)\n",
    "                    review_tree = review_data[\"props\"][\"pageProps\"]\n",
    "                    review_tree = review_tree[\"reviews\"]\n",
    "                    review = review_tree[0][\"text\"]\n",
    "                    rating = review_tree[0][\"rating\"]\n",
    "                    if rating == 3:\n",
    "                        #data.append((review, rating, category, c))\n",
    "                        #data = [rating, review, c, category]\n",
    "                        data = \"\\\"\" + rating + \"\\\",\" + str(review) + \",\" + c + \",\" + category\n",
    "                        csv_file.write(data)\n",
    "                except AttributeError:\n",
    "                    print(\"PAGE ERROR! There was an error on this page: \" + \"https://se.trustpilot.com/review/\" + c + \"?page=\" + str(page))\n",
    "        "
   ]
  },
  {
   "cell_type": "code",
   "execution_count": null,
   "id": "07b7a6ec",
   "metadata": {},
   "outputs": [],
   "source": [
    "df = pd.DataFrame(data, columns=[\"text\", \"rating\", \"category\", \"company\"])"
   ]
  },
  {
   "cell_type": "code",
   "execution_count": null,
   "id": "40780aba",
   "metadata": {},
   "outputs": [],
   "source": [
    "df"
   ]
  },
  {
   "cell_type": "code",
   "execution_count": null,
   "id": "5d02187c",
   "metadata": {},
   "outputs": [],
   "source": []
  },
  {
   "cell_type": "code",
   "execution_count": null,
   "id": "742ff509",
   "metadata": {},
   "outputs": [],
   "source": [
    "data"
   ]
  },
  {
   "cell_type": "code",
   "execution_count": null,
   "id": "d14b925e",
   "metadata": {},
   "outputs": [],
   "source": [
    "review = \"Kanon bra service\"\n",
    "rating = 3\n",
    "company \"made_up_company\"\n",
    "\n",
    "with open(\"ratings.csv\",\"a\") as csv_file:\n",
    "    csv_file.write(data)"
   ]
  },
  {
   "cell_type": "code",
   "execution_count": null,
   "id": "c0e3a270",
   "metadata": {},
   "outputs": [],
   "source": []
  }
 ],
 "metadata": {
  "kernelspec": {
   "display_name": "Python 3 (ipykernel)",
   "language": "python",
   "name": "python3"
  },
  "language_info": {
   "codemirror_mode": {
    "name": "ipython",
    "version": 3
   },
   "file_extension": ".py",
   "mimetype": "text/x-python",
   "name": "python",
   "nbconvert_exporter": "python",
   "pygments_lexer": "ipython3",
   "version": "3.10.6"
  }
 },
 "nbformat": 4,
 "nbformat_minor": 5
}
