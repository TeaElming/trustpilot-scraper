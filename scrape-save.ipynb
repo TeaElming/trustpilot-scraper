{
 "cells": [
  {
   "cell_type": "code",
   "execution_count": 1,
   "id": "b48c5bca",
   "metadata": {},
   "outputs": [],
   "source": [
    "import re\n",
    "import os\n",
    "import json\n",
    "import requests\n",
    "import pandas as pd\n",
    "from bs4 import BeautifulSoup"
   ]
  },
  {
   "cell_type": "code",
   "execution_count": 2,
   "id": "d2684989",
   "metadata": {},
   "outputs": [],
   "source": [
    "def fetch(url):\n",
    "    result = requests.get(url)\n",
    "    soup = BeautifulSoup(result.content, \"html.parser\")\n",
    "    return soup"
   ]
  },
  {
   "cell_type": "code",
   "execution_count": 3,
   "id": "94170e12",
   "metadata": {},
   "outputs": [],
   "source": [
    "def get_categories():\n",
    "    top_category_url = \"https://se.trustpilot.com/categories\"\n",
    "    category_soup = fetch(top_category_url)\n",
    "    tags = category_soup.find(\"script\", {\"id\":\"__NEXT_DATA__\"})\n",
    "    data = json.loads(tags.text)\n",
    "    tree = data[\"props\"]\n",
    "    all_categories = []\n",
    "    cats = tree[\"pageProps\"][\"categories\"]\n",
    "    for category in cats:\n",
    "        all_categories.append(category[\"categoryId\"])\n",
    "    category_urls = []\n",
    "    for cat in all_categories:\n",
    "        category_url = top_category_url + \"/\" + cat\n",
    "        category_urls.append(category_url) # All category URLs collected from site\n",
    "    return category_urls"
   ]
  },
  {
   "cell_type": "code",
   "execution_count": 4,
   "id": "f9044fc5",
   "metadata": {},
   "outputs": [],
   "source": [
    "categories = get_categories()"
   ]
  },
  {
   "cell_type": "code",
   "execution_count": 5,
   "id": "b176ff03",
   "metadata": {},
   "outputs": [
    {
     "name": "stdout",
     "output_type": "stream",
     "text": [
      "['https://se.trustpilot.com/categories/animals_pets', 'https://se.trustpilot.com/categories/electronics_technology', 'https://se.trustpilot.com/categories/events_entertainment', 'https://se.trustpilot.com/categories/vehicles_transportation', 'https://se.trustpilot.com/categories/business_services', 'https://se.trustpilot.com/categories/health_medical', 'https://se.trustpilot.com/categories/home_garden', 'https://se.trustpilot.com/categories/hobbies_crafts', 'https://se.trustpilot.com/categories/home_services', 'https://se.trustpilot.com/categories/legal_services_government', 'https://se.trustpilot.com/categories/construction_manufactoring', 'https://se.trustpilot.com/categories/food_beverages_tobacco', 'https://se.trustpilot.com/categories/media_publishing', 'https://se.trustpilot.com/categories/money_insurance', 'https://se.trustpilot.com/categories/travel_vacation', 'https://se.trustpilot.com/categories/restaurants_bars', 'https://se.trustpilot.com/categories/public_local_services', 'https://se.trustpilot.com/categories/shopping_fashion', 'https://se.trustpilot.com/categories/education_training', 'https://se.trustpilot.com/categories/beauty_wellbeing', 'https://se.trustpilot.com/categories/sports', 'https://se.trustpilot.com/categories/utilities']\n"
     ]
    }
   ],
   "source": [
    "print(categories)"
   ]
  },
  {
   "cell_type": "code",
   "execution_count": 12,
   "id": "58400971",
   "metadata": {},
   "outputs": [
    {
     "name": "stdout",
     "output_type": "stream",
     "text": [
      "PAGE ERROR! There was an error on this page: https://se.trustpilot.com/review/www.propet.se?page=8\n",
      "PAGE ERROR! There was an error on this page: https://se.trustpilot.com/review/www.propet.se?page=10\n",
      "PAGE ERROR! There was an error on this page: https://se.trustpilot.com/review/www.propet.se?page=11\n",
      "PAGE ERROR! There was an error on this page: https://se.trustpilot.com/review/www.propet.se?page=12\n",
      "PAGE ERROR! There was an error on this page: https://se.trustpilot.com/review/www.propet.se?page=13\n",
      "PAGE ERROR! There was an error on this page: https://se.trustpilot.com/review/www.propet.se?page=14\n",
      "PAGE ERROR! There was an error on this page: https://se.trustpilot.com/review/www.propet.se?page=15\n",
      "PAGE ERROR! There was an error on this page: https://se.trustpilot.com/review/www.propet.se?page=16\n",
      "PAGE ERROR! There was an error on this page: https://se.trustpilot.com/review/www.propet.se?page=17\n",
      "PAGE ERROR! There was an error on this page: https://se.trustpilot.com/review/www.propet.se?page=18\n",
      "PAGE ERROR! There was an error on this page: https://se.trustpilot.com/review/www.propet.se?page=19\n",
      "PAGE ERROR! There was an error on this page: https://se.trustpilot.com/review/www.propet.se?page=20\n",
      "PAGE ERROR! There was an error on this page: https://se.trustpilot.com/review/www.propet.se?page=21\n",
      "PAGE ERROR! There was an error on this page: https://se.trustpilot.com/review/www.propet.se?page=22\n",
      "PAGE ERROR! There was an error on this page: https://se.trustpilot.com/review/www.propet.se?page=23\n",
      "PAGE ERROR! There was an error on this page: https://se.trustpilot.com/review/www.propet.se?page=24\n",
      "PAGE ERROR! There was an error on this page: https://se.trustpilot.com/review/www.propet.se?page=25\n",
      "PAGE ERROR! There was an error on this page: https://se.trustpilot.com/review/www.propet.se?page=26\n",
      "PAGE ERROR! There was an error on this page: https://se.trustpilot.com/review/www.propet.se?page=27\n",
      "PAGE ERROR! There was an error on this page: https://se.trustpilot.com/review/www.propet.se?page=28\n",
      "PAGE ERROR! There was an error on this page: https://se.trustpilot.com/review/www.propet.se?page=29\n",
      "PAGE ERROR! There was an error on this page: https://se.trustpilot.com/review/www.propet.se?page=30\n",
      "PAGE ERROR! There was an error on this page: https://se.trustpilot.com/review/www.propet.se?page=31\n",
      "PAGE ERROR! There was an error on this page: https://se.trustpilot.com/review/www.propet.se?page=32\n",
      "PAGE ERROR! There was an error on this page: https://se.trustpilot.com/review/www.propet.se?page=33\n",
      "PAGE ERROR! There was an error on this page: https://se.trustpilot.com/review/www.propet.se?page=34\n",
      "PAGE ERROR! There was an error on this page: https://se.trustpilot.com/review/www.propet.se?page=35\n",
      "PAGE ERROR! There was an error on this page: https://se.trustpilot.com/review/www.propet.se?page=36\n",
      "PAGE ERROR! There was an error on this page: https://se.trustpilot.com/review/www.propet.se?page=37\n",
      "PAGE ERROR! There was an error on this page: https://se.trustpilot.com/review/www.propet.se?page=38\n",
      "PAGE ERROR! There was an error on this page: https://se.trustpilot.com/review/www.propet.se?page=39\n",
      "PAGE ERROR! There was an error on this page: https://se.trustpilot.com/review/www.propet.se?page=40\n",
      "PAGE ERROR! There was an error on this page: https://se.trustpilot.com/review/www.propet.se?page=41\n",
      "PAGE ERROR! There was an error on this page: https://se.trustpilot.com/review/www.propet.se?page=42\n",
      "PAGE ERROR! There was an error on this page: https://se.trustpilot.com/review/www.propet.se?page=43\n",
      "PAGE ERROR! There was an error on this page: https://se.trustpilot.com/review/www.propet.se?page=44\n",
      "PAGE ERROR! There was an error on this page: https://se.trustpilot.com/review/www.propet.se?page=45\n",
      "PAGE ERROR! There was an error on this page: https://se.trustpilot.com/review/www.propet.se?page=46\n",
      "PAGE ERROR! There was an error on this page: https://se.trustpilot.com/review/www.propet.se?page=47\n",
      "PAGE ERROR! There was an error on this page: https://se.trustpilot.com/review/www.propet.se?page=48\n"
     ]
    },
    {
     "ename": "AttributeError",
     "evalue": "'NoneType' object has no attribute 'text'",
     "output_type": "error",
     "traceback": [
      "\u001b[0;31m---------------------------------------------------------------------------\u001b[0m",
      "\u001b[0;31mAttributeError\u001b[0m                            Traceback (most recent call last)",
      "\u001b[0;32m/tmp/ipykernel_23159/917021735.py\u001b[0m in \u001b[0;36m<module>\u001b[0;34m\u001b[0m\n\u001b[1;32m     39\u001b[0m         \u001b[0mcount_soup\u001b[0m \u001b[0;34m=\u001b[0m \u001b[0mfetch\u001b[0m\u001b[0;34m(\u001b[0m\u001b[0;34m\"https://se.trustpilot.com/review/\"\u001b[0m \u001b[0;34m+\u001b[0m \u001b[0mc\u001b[0m\u001b[0;34m)\u001b[0m\u001b[0;34m\u001b[0m\u001b[0;34m\u001b[0m\u001b[0m\n\u001b[1;32m     40\u001b[0m         \u001b[0mcount_tags\u001b[0m \u001b[0;34m=\u001b[0m \u001b[0mcount_soup\u001b[0m\u001b[0;34m.\u001b[0m\u001b[0mfind\u001b[0m\u001b[0;34m(\u001b[0m\u001b[0;34m\"script\"\u001b[0m\u001b[0;34m,\u001b[0m \u001b[0;34m{\u001b[0m\u001b[0;34m\"id\"\u001b[0m\u001b[0;34m:\u001b[0m\u001b[0;34m\"__NEXT_DATA__\"\u001b[0m\u001b[0;34m}\u001b[0m\u001b[0;34m)\u001b[0m\u001b[0;34m\u001b[0m\u001b[0;34m\u001b[0m\u001b[0m\n\u001b[0;32m---> 41\u001b[0;31m         \u001b[0mcount_data\u001b[0m \u001b[0;34m=\u001b[0m \u001b[0mjson\u001b[0m\u001b[0;34m.\u001b[0m\u001b[0mloads\u001b[0m\u001b[0;34m(\u001b[0m\u001b[0mcount_tags\u001b[0m\u001b[0;34m.\u001b[0m\u001b[0mtext\u001b[0m\u001b[0;34m)\u001b[0m\u001b[0;34m\u001b[0m\u001b[0;34m\u001b[0m\u001b[0m\n\u001b[0m\u001b[1;32m     42\u001b[0m         \u001b[0mcount_tree\u001b[0m \u001b[0;34m=\u001b[0m \u001b[0mcount_data\u001b[0m\u001b[0;34m[\u001b[0m\u001b[0;34m\"props\"\u001b[0m\u001b[0;34m]\u001b[0m\u001b[0;34m\u001b[0m\u001b[0;34m\u001b[0m\u001b[0m\n\u001b[1;32m     43\u001b[0m         \u001b[0mcount_pages\u001b[0m \u001b[0;34m=\u001b[0m \u001b[0mcount_tree\u001b[0m\u001b[0;34m[\u001b[0m\u001b[0;34m\"pageProps\"\u001b[0m\u001b[0;34m]\u001b[0m\u001b[0;34m[\u001b[0m\u001b[0;34m\"filters\"\u001b[0m\u001b[0;34m]\u001b[0m\u001b[0;34m[\u001b[0m\u001b[0;34m\"pagination\"\u001b[0m\u001b[0;34m]\u001b[0m\u001b[0;34m[\u001b[0m\u001b[0;34m\"totalPages\"\u001b[0m\u001b[0;34m]\u001b[0m\u001b[0;34m\u001b[0m\u001b[0;34m\u001b[0m\u001b[0m\n",
      "\u001b[0;31mAttributeError\u001b[0m: 'NoneType' object has no attribute 'text'"
     ]
    }
   ],
   "source": [
    "data = []\n",
    "\n",
    "if not os.path.exists(\"data\"):\n",
    "    os.makedir(\"data\")\n",
    "\n",
    "for category in categories[0:1]:\n",
    "    category_dir = category.split(\"/\")\n",
    "    category_dir = category_dir[len(category_dir)-1]\n",
    "    if not os.path.exists(\"data/\" + category_dir):\n",
    "        os.mkdir(\"data/\" + category_dir)\n",
    "    \n",
    "    category_specific_companies = []\n",
    "    category_soup = fetch(category)\n",
    "    category_tags = category_soup.find(\"script\", {\"id\":\"__NEXT_DATA__\"})\n",
    "    category_data = json.loads(category_tags.text)\n",
    "    # Category is for example https://se.trustpilot.com/categories/animals_pets\n",
    "    n_pages = category_data[\"props\"][\"pageProps\"][\"seoData\"][\"maxPages\"]\n",
    "    for i in range(1, n_pages):\n",
    "        category_page = category + \"?page=\" + str(i)\n",
    "        company_soup = fetch(category_page)\n",
    "        company_tags = company_soup.find(\"script\", {\"id\":\"__NEXT_DATA__\"})\n",
    "        company_data = json.loads(company_tags.text)\n",
    "        try: \n",
    "            \n",
    "            #print(company_data)\n",
    "            company_tree = company_data[\"props\"][\"pageProps\"][\"businessUnits\"]\n",
    "            for k, v in company_tree.items():\n",
    "                if type(v) == list:\n",
    "                    for j in v:\n",
    "                        company_id = j[\"identifyingName\"]\n",
    "                        if company_id not in category_specific_companies:\n",
    "                            category_specific_companies.append(company_id)\n",
    "        except AttributeError:\n",
    "            print(\"COMPANY ERROR! There was an error with this company:\" + company_id)\n",
    "        i += 1\n",
    "    for c in category_specific_companies:\n",
    "        if not os.path.exists(\"data/\" + category_dir + \"/\" + c):\n",
    "            os.mkdir(\"data/\" + category_dir + \"/\" + c)\n",
    "        count_soup = fetch(\"https://se.trustpilot.com/review/\" + c)\n",
    "        count_tags = count_soup.find(\"script\", {\"id\":\"__NEXT_DATA__\"})\n",
    "        count_data = json.loads(count_tags.text)\n",
    "        count_tree = count_data[\"props\"]\n",
    "        count_pages = count_tree[\"pageProps\"][\"filters\"][\"pagination\"][\"totalPages\"]\n",
    "        for page in range(1, count_pages):\n",
    "            try:\n",
    "                review_soup = fetch(\"https://se.trustpilot.com/review/\" + c + \"?page=\" + str(page) +\"&stars=3\") # Specify rating if important here\n",
    "                review_tags = review_soup.find(\"script\", {\"id\":\"__NEXT_DATA__\"})\n",
    "                review_data = json.loads(review_tags.text)\n",
    "                review_tree = review_data[\"props\"][\"pageProps\"]\n",
    "                review_tree = review_tree[\"reviews\"]\n",
    "                review = review_tree[0][\"text\"]\n",
    "                rating = review_tree[0][\"rating\"]\n",
    "                if rating == 3:\n",
    "                    data.append((review, rating, category, c))\n",
    "                    #print((rating, review, c, category)\n",
    "            except AttributeError:\n",
    "                print(\"PAGE ERROR! There was an error on this page: \" + \"https://se.trustpilot.com/review/\" + c + \"?page=\" + str(page))"
   ]
  },
  {
   "cell_type": "code",
   "execution_count": 7,
   "id": "9a2ea824",
   "metadata": {},
   "outputs": [
    {
     "data": {
      "text/plain": [
       "[('Köpte handledskylare för att prova mot vallningar. \\nUpplever dock ingen direkt kylande effekt.',\n",
       "  3,\n",
       "  'https://se.trustpilot.com/categories/animals_pets',\n",
       "  'hansesgarden.se'),\n",
       " ('Jag blev bemött på ett bra sätt inga konstigheter.',\n",
       "  3,\n",
       "  'https://se.trustpilot.com/categories/animals_pets',\n",
       "  '4dogs.se'),\n",
       " ('Alldeles för lång leveranstid!  Varorna låg i Sundsvall i nästan en vecka, från ca kl.06.00 på fredagsmorgonen till nästföljande torsdag. Byt från DHL till Bussgods eller PostNord!',\n",
       "  3,\n",
       "  'https://se.trustpilot.com/categories/animals_pets',\n",
       "  '4dogs.se'),\n",
       " ('Snabb leverans och mkt smidigt att beställa.\\nBlev lite besviken på de olika kvaliteterna på fällarna. Den ena är otroligt fin och rejäl , medans den andra inte alls håller samma form.\\nMan ser inte ens vad mönstret föreställer. 😞',\n",
       "  3,\n",
       "  'https://se.trustpilot.com/categories/animals_pets',\n",
       "  'www.propet.se'),\n",
       " ('Bra bra bra bra bra',\n",
       "  3,\n",
       "  'https://se.trustpilot.com/categories/animals_pets',\n",
       "  'www.propet.se'),\n",
       " ('Snabb leverans som vanligt men jag fick fel produkt.... Det var torkad vom i småbitar och jag beställde vom i små stickor. Orkade inte att skicka tillbaka utan tänkte det får gå denna gången.',\n",
       "  3,\n",
       "  'https://se.trustpilot.com/categories/animals_pets',\n",
       "  'svenskadjurapoteket.se'),\n",
       " ('köpte påse med 1000 pälssnoddar, blandade färger. Bra kvalitet men de flesta var rosa/orangea',\n",
       "  3,\n",
       "  'https://se.trustpilot.com/categories/animals_pets',\n",
       "  'www.haromi.se')]"
      ]
     },
     "execution_count": 7,
     "metadata": {},
     "output_type": "execute_result"
    }
   ],
   "source": [
    "data"
   ]
  },
  {
   "cell_type": "code",
   "execution_count": 10,
   "id": "07b7a6ec",
   "metadata": {},
   "outputs": [],
   "source": [
    "df = pd.DataFrame(data, columns=[\"text\", \"rating\", \"category\", \"company\"])"
   ]
  },
  {
   "cell_type": "code",
   "execution_count": 11,
   "id": "40780aba",
   "metadata": {},
   "outputs": [
    {
     "data": {
      "text/html": [
       "<div>\n",
       "<style scoped>\n",
       "    .dataframe tbody tr th:only-of-type {\n",
       "        vertical-align: middle;\n",
       "    }\n",
       "\n",
       "    .dataframe tbody tr th {\n",
       "        vertical-align: top;\n",
       "    }\n",
       "\n",
       "    .dataframe thead th {\n",
       "        text-align: right;\n",
       "    }\n",
       "</style>\n",
       "<table border=\"1\" class=\"dataframe\">\n",
       "  <thead>\n",
       "    <tr style=\"text-align: right;\">\n",
       "      <th></th>\n",
       "      <th>text</th>\n",
       "      <th>rating</th>\n",
       "      <th>category</th>\n",
       "      <th>company</th>\n",
       "    </tr>\n",
       "  </thead>\n",
       "  <tbody>\n",
       "    <tr>\n",
       "      <th>0</th>\n",
       "      <td>Köpte handledskylare för att prova mot vallnin...</td>\n",
       "      <td>3</td>\n",
       "      <td>https://se.trustpilot.com/categories/animals_pets</td>\n",
       "      <td>hansesgarden.se</td>\n",
       "    </tr>\n",
       "    <tr>\n",
       "      <th>1</th>\n",
       "      <td>Jag blev bemött på ett bra sätt inga konstighe...</td>\n",
       "      <td>3</td>\n",
       "      <td>https://se.trustpilot.com/categories/animals_pets</td>\n",
       "      <td>4dogs.se</td>\n",
       "    </tr>\n",
       "    <tr>\n",
       "      <th>2</th>\n",
       "      <td>Alldeles för lång leveranstid!  Varorna låg i ...</td>\n",
       "      <td>3</td>\n",
       "      <td>https://se.trustpilot.com/categories/animals_pets</td>\n",
       "      <td>4dogs.se</td>\n",
       "    </tr>\n",
       "    <tr>\n",
       "      <th>3</th>\n",
       "      <td>Snabb leverans och mkt smidigt att beställa.\\n...</td>\n",
       "      <td>3</td>\n",
       "      <td>https://se.trustpilot.com/categories/animals_pets</td>\n",
       "      <td>www.propet.se</td>\n",
       "    </tr>\n",
       "    <tr>\n",
       "      <th>4</th>\n",
       "      <td>Bra bra bra bra bra</td>\n",
       "      <td>3</td>\n",
       "      <td>https://se.trustpilot.com/categories/animals_pets</td>\n",
       "      <td>www.propet.se</td>\n",
       "    </tr>\n",
       "    <tr>\n",
       "      <th>5</th>\n",
       "      <td>Snabb leverans som vanligt men jag fick fel pr...</td>\n",
       "      <td>3</td>\n",
       "      <td>https://se.trustpilot.com/categories/animals_pets</td>\n",
       "      <td>svenskadjurapoteket.se</td>\n",
       "    </tr>\n",
       "    <tr>\n",
       "      <th>6</th>\n",
       "      <td>köpte påse med 1000 pälssnoddar, blandade färg...</td>\n",
       "      <td>3</td>\n",
       "      <td>https://se.trustpilot.com/categories/animals_pets</td>\n",
       "      <td>www.haromi.se</td>\n",
       "    </tr>\n",
       "  </tbody>\n",
       "</table>\n",
       "</div>"
      ],
      "text/plain": [
       "                                                text  rating  \\\n",
       "0  Köpte handledskylare för att prova mot vallnin...       3   \n",
       "1  Jag blev bemött på ett bra sätt inga konstighe...       3   \n",
       "2  Alldeles för lång leveranstid!  Varorna låg i ...       3   \n",
       "3  Snabb leverans och mkt smidigt att beställa.\\n...       3   \n",
       "4                                Bra bra bra bra bra       3   \n",
       "5  Snabb leverans som vanligt men jag fick fel pr...       3   \n",
       "6  köpte påse med 1000 pälssnoddar, blandade färg...       3   \n",
       "\n",
       "                                            category                 company  \n",
       "0  https://se.trustpilot.com/categories/animals_pets         hansesgarden.se  \n",
       "1  https://se.trustpilot.com/categories/animals_pets                4dogs.se  \n",
       "2  https://se.trustpilot.com/categories/animals_pets                4dogs.se  \n",
       "3  https://se.trustpilot.com/categories/animals_pets           www.propet.se  \n",
       "4  https://se.trustpilot.com/categories/animals_pets           www.propet.se  \n",
       "5  https://se.trustpilot.com/categories/animals_pets  svenskadjurapoteket.se  \n",
       "6  https://se.trustpilot.com/categories/animals_pets           www.haromi.se  "
      ]
     },
     "execution_count": 11,
     "metadata": {},
     "output_type": "execute_result"
    }
   ],
   "source": [
    "df"
   ]
  },
  {
   "cell_type": "code",
   "execution_count": null,
   "id": "5d02187c",
   "metadata": {},
   "outputs": [],
   "source": []
  },
  {
   "cell_type": "code",
   "execution_count": null,
   "id": "742ff509",
   "metadata": {},
   "outputs": [],
   "source": []
  }
 ],
 "metadata": {
  "kernelspec": {
   "display_name": "Python 3 (ipykernel)",
   "language": "python",
   "name": "python3"
  },
  "language_info": {
   "codemirror_mode": {
    "name": "ipython",
    "version": 3
   },
   "file_extension": ".py",
   "mimetype": "text/x-python",
   "name": "python",
   "nbconvert_exporter": "python",
   "pygments_lexer": "ipython3",
   "version": "3.10.6"
  }
 },
 "nbformat": 4,
 "nbformat_minor": 5
}
